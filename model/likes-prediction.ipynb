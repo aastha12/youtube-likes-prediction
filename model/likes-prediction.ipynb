{
 "cells": [
  {
   "cell_type": "code",
   "execution_count": 28,
   "metadata": {},
   "outputs": [],
   "source": [
    "import pandas as pd\n",
    "from sklearn.model_selection import cross_val_score\n",
    "import lightgbm as lgb\n",
    "from sklearn.linear_model import ElasticNet\n",
    "from sklearn.pipeline import Pipeline\n",
    "import category_encoders as ce\n",
    "from sklearn.preprocessing import QuantileTransformer,RobustScaler\n",
    "import mlflow\n",
    "from catboost import CatBoostRegressor\n",
    "from mlflow.tracking import MlflowClient\n",
    "from hyperopt import fmin, tpe, hp, STATUS_OK, Trials\n",
    "from hyperopt.pyll import scope\n",
    "from sklearn.model_selection import train_test_split\n",
    "from lightgbm import early_stopping\n",
    "from sklearn.metrics import mean_squared_error\n",
    "from datetime import datetime"
   ]
  },
  {
   "cell_type": "code",
   "execution_count": 2,
   "metadata": {},
   "outputs": [
    {
     "data": {
      "text/plain": [
       "<Experiment: artifact_location='mlflow-artifacts:/1', creation_time=1705288512489, experiment_id='1', last_update_time=1705288512489, lifecycle_stage='active', name='my-experiment-1', tags={}>"
      ]
     },
     "execution_count": 2,
     "metadata": {},
     "output_type": "execute_result"
    }
   ],
   "source": [
    "mlflow.set_tracking_uri(\"http://127.0.0.1:5000\")\n",
    "mlflow.set_experiment(\"my-experiment-1\")"
   ]
  },
  {
   "cell_type": "code",
   "execution_count": 3,
   "metadata": {},
   "outputs": [],
   "source": [
    "data = pd.read_csv('../data/YouTubeDataset_withChannelElapsed.csv')"
   ]
  },
  {
   "cell_type": "code",
   "execution_count": 4,
   "metadata": {},
   "outputs": [
    {
     "data": {
      "text/html": [
       "<div>\n",
       "<style scoped>\n",
       "    .dataframe tbody tr th:only-of-type {\n",
       "        vertical-align: middle;\n",
       "    }\n",
       "\n",
       "    .dataframe tbody tr th {\n",
       "        vertical-align: top;\n",
       "    }\n",
       "\n",
       "    .dataframe thead th {\n",
       "        text-align: right;\n",
       "    }\n",
       "</style>\n",
       "<table border=\"1\" class=\"dataframe\">\n",
       "  <thead>\n",
       "    <tr style=\"text-align: right;\">\n",
       "      <th></th>\n",
       "      <th>index</th>\n",
       "      <th>totalviews/channelelapsedtime</th>\n",
       "      <th>channelId</th>\n",
       "      <th>videoCategoryId</th>\n",
       "      <th>channelViewCount</th>\n",
       "      <th>likes/subscriber</th>\n",
       "      <th>views/subscribers</th>\n",
       "      <th>videoCount</th>\n",
       "      <th>subscriberCount</th>\n",
       "      <th>videoId</th>\n",
       "      <th>...</th>\n",
       "      <th>comments/views</th>\n",
       "      <th>totvideos/videocount</th>\n",
       "      <th>elapsedtime</th>\n",
       "      <th>videoLikeCount</th>\n",
       "      <th>videoDislikeCount</th>\n",
       "      <th>dislikes/subscriber</th>\n",
       "      <th>totviews/totsubs</th>\n",
       "      <th>views/elapsedtime</th>\n",
       "      <th>videoPublished</th>\n",
       "      <th>VideoCommentCount</th>\n",
       "    </tr>\n",
       "  </thead>\n",
       "  <tbody>\n",
       "    <tr>\n",
       "      <th>0</th>\n",
       "      <td>0</td>\n",
       "      <td>0.165199</td>\n",
       "      <td>UCdzU3DSGzyWzN2118yd9X9g</td>\n",
       "      <td>22</td>\n",
       "      <td>14654</td>\n",
       "      <td>0.555556</td>\n",
       "      <td>95.111111</td>\n",
       "      <td>30</td>\n",
       "      <td>18</td>\n",
       "      <td>--DwgB78t-c</td>\n",
       "      <td>...</td>\n",
       "      <td>0.000000</td>\n",
       "      <td>488.466667</td>\n",
       "      <td>50040</td>\n",
       "      <td>10</td>\n",
       "      <td>1</td>\n",
       "      <td>0.055556</td>\n",
       "      <td>814.111111</td>\n",
       "      <td>0.034213</td>\n",
       "      <td>2012-01-19T18:38:28.000Z</td>\n",
       "      <td>0</td>\n",
       "    </tr>\n",
       "    <tr>\n",
       "      <th>1</th>\n",
       "      <td>1</td>\n",
       "      <td>1.133820</td>\n",
       "      <td>UC0UnhAG47DRyVZGVcbhAXhQ</td>\n",
       "      <td>10</td>\n",
       "      <td>105909</td>\n",
       "      <td>0.239130</td>\n",
       "      <td>59.326087</td>\n",
       "      <td>51</td>\n",
       "      <td>184</td>\n",
       "      <td>--NZRkXBV7k</td>\n",
       "      <td>...</td>\n",
       "      <td>0.000183</td>\n",
       "      <td>2076.647059</td>\n",
       "      <td>22080</td>\n",
       "      <td>44</td>\n",
       "      <td>3</td>\n",
       "      <td>0.016304</td>\n",
       "      <td>575.592391</td>\n",
       "      <td>0.494384</td>\n",
       "      <td>2015-03-30T04:04:40.000Z</td>\n",
       "      <td>2</td>\n",
       "    </tr>\n",
       "    <tr>\n",
       "      <th>2</th>\n",
       "      <td>2</td>\n",
       "      <td>0.668120</td>\n",
       "      <td>UCXjtAvK5P3wXBGh0vbGylzg</td>\n",
       "      <td>27</td>\n",
       "      <td>48265</td>\n",
       "      <td>0.023669</td>\n",
       "      <td>10.289941</td>\n",
       "      <td>72</td>\n",
       "      <td>338</td>\n",
       "      <td>--hoQ2sGG4M</td>\n",
       "      <td>...</td>\n",
       "      <td>0.000575</td>\n",
       "      <td>670.347222</td>\n",
       "      <td>71544</td>\n",
       "      <td>8</td>\n",
       "      <td>1</td>\n",
       "      <td>0.002959</td>\n",
       "      <td>142.795858</td>\n",
       "      <td>0.048613</td>\n",
       "      <td>2009-08-07T06:51:10.000Z</td>\n",
       "      <td>2</td>\n",
       "    </tr>\n",
       "    <tr>\n",
       "      <th>3</th>\n",
       "      <td>3</td>\n",
       "      <td>25.653505</td>\n",
       "      <td>UCeKHMeUlcLNPLCLUfZUQI2w</td>\n",
       "      <td>26</td>\n",
       "      <td>2116722</td>\n",
       "      <td>0.007301</td>\n",
       "      <td>0.884178</td>\n",
       "      <td>172</td>\n",
       "      <td>22051</td>\n",
       "      <td>--sBoaqBlzA</td>\n",
       "      <td>...</td>\n",
       "      <td>0.000513</td>\n",
       "      <td>12306.523256</td>\n",
       "      <td>54096</td>\n",
       "      <td>161</td>\n",
       "      <td>6</td>\n",
       "      <td>0.000272</td>\n",
       "      <td>95.992109</td>\n",
       "      <td>0.360415</td>\n",
       "      <td>2011-08-04T01:07:38.000Z</td>\n",
       "      <td>10</td>\n",
       "    </tr>\n",
       "    <tr>\n",
       "      <th>4</th>\n",
       "      <td>4</td>\n",
       "      <td>52.773778</td>\n",
       "      <td>UCNWPDyaWf2eAHnofFLSnEMg</td>\n",
       "      <td>20</td>\n",
       "      <td>1649075</td>\n",
       "      <td>0.004545</td>\n",
       "      <td>10.004545</td>\n",
       "      <td>2777</td>\n",
       "      <td>220</td>\n",
       "      <td>--7h1S4neDM</td>\n",
       "      <td>...</td>\n",
       "      <td>0.000000</td>\n",
       "      <td>593.833273</td>\n",
       "      <td>30120</td>\n",
       "      <td>1</td>\n",
       "      <td>0</td>\n",
       "      <td>0.000000</td>\n",
       "      <td>7495.795455</td>\n",
       "      <td>0.073074</td>\n",
       "      <td>2014-04-29T15:44:44.000Z</td>\n",
       "      <td>0</td>\n",
       "    </tr>\n",
       "  </tbody>\n",
       "</table>\n",
       "<p>5 rows × 27 columns</p>\n",
       "</div>"
      ],
      "text/plain": [
       "   index  totalviews/channelelapsedtime                 channelId  \\\n",
       "0      0                       0.165199  UCdzU3DSGzyWzN2118yd9X9g   \n",
       "1      1                       1.133820  UC0UnhAG47DRyVZGVcbhAXhQ   \n",
       "2      2                       0.668120  UCXjtAvK5P3wXBGh0vbGylzg   \n",
       "3      3                      25.653505  UCeKHMeUlcLNPLCLUfZUQI2w   \n",
       "4      4                      52.773778  UCNWPDyaWf2eAHnofFLSnEMg   \n",
       "\n",
       "   videoCategoryId  channelViewCount  likes/subscriber  views/subscribers  \\\n",
       "0               22             14654          0.555556          95.111111   \n",
       "1               10            105909          0.239130          59.326087   \n",
       "2               27             48265          0.023669          10.289941   \n",
       "3               26           2116722          0.007301           0.884178   \n",
       "4               20           1649075          0.004545          10.004545   \n",
       "\n",
       "   videoCount  subscriberCount      videoId  ...  comments/views  \\\n",
       "0          30               18  --DwgB78t-c  ...        0.000000   \n",
       "1          51              184  --NZRkXBV7k  ...        0.000183   \n",
       "2          72              338  --hoQ2sGG4M  ...        0.000575   \n",
       "3         172            22051  --sBoaqBlzA  ...        0.000513   \n",
       "4        2777              220  --7h1S4neDM  ...        0.000000   \n",
       "\n",
       "   totvideos/videocount  elapsedtime  videoLikeCount  videoDislikeCount  \\\n",
       "0            488.466667        50040              10                  1   \n",
       "1           2076.647059        22080              44                  3   \n",
       "2            670.347222        71544               8                  1   \n",
       "3          12306.523256        54096             161                  6   \n",
       "4            593.833273        30120               1                  0   \n",
       "\n",
       "   dislikes/subscriber  totviews/totsubs  views/elapsedtime  \\\n",
       "0             0.055556        814.111111           0.034213   \n",
       "1             0.016304        575.592391           0.494384   \n",
       "2             0.002959        142.795858           0.048613   \n",
       "3             0.000272         95.992109           0.360415   \n",
       "4             0.000000       7495.795455           0.073074   \n",
       "\n",
       "             videoPublished  VideoCommentCount  \n",
       "0  2012-01-19T18:38:28.000Z                  0  \n",
       "1  2015-03-30T04:04:40.000Z                  2  \n",
       "2  2009-08-07T06:51:10.000Z                  2  \n",
       "3  2011-08-04T01:07:38.000Z                 10  \n",
       "4  2014-04-29T15:44:44.000Z                  0  \n",
       "\n",
       "[5 rows x 27 columns]"
      ]
     },
     "execution_count": 4,
     "metadata": {},
     "output_type": "execute_result"
    }
   ],
   "source": [
    "data.head()"
   ]
  },
  {
   "cell_type": "code",
   "execution_count": 5,
   "metadata": {},
   "outputs": [
    {
     "data": {
      "text/plain": [
       "Index(['index', 'totalviews/channelelapsedtime', 'channelId',\n",
       "       'videoCategoryId', 'channelViewCount', 'likes/subscriber',\n",
       "       'views/subscribers', 'videoCount', 'subscriberCount', 'videoId',\n",
       "       'dislikes/views', 'channelelapsedtime', 'comments/subscriber',\n",
       "       'likes/views', 'channelCommentCount', 'videoViewCount',\n",
       "       'likes/dislikes', 'comments/views', 'totvideos/videocount',\n",
       "       'elapsedtime', 'videoLikeCount', 'videoDislikeCount',\n",
       "       'dislikes/subscriber', 'totviews/totsubs', 'views/elapsedtime',\n",
       "       'videoPublished', 'VideoCommentCount'],\n",
       "      dtype='object')"
      ]
     },
     "execution_count": 5,
     "metadata": {},
     "output_type": "execute_result"
    }
   ],
   "source": [
    "data.columns"
   ]
  },
  {
   "cell_type": "markdown",
   "metadata": {},
   "source": [
    "I will select only the required columns for the prediction"
   ]
  },
  {
   "cell_type": "code",
   "execution_count": 6,
   "metadata": {},
   "outputs": [
    {
     "data": {
      "text/html": [
       "<div>\n",
       "<style scoped>\n",
       "    .dataframe tbody tr th:only-of-type {\n",
       "        vertical-align: middle;\n",
       "    }\n",
       "\n",
       "    .dataframe tbody tr th {\n",
       "        vertical-align: top;\n",
       "    }\n",
       "\n",
       "    .dataframe thead th {\n",
       "        text-align: right;\n",
       "    }\n",
       "</style>\n",
       "<table border=\"1\" class=\"dataframe\">\n",
       "  <thead>\n",
       "    <tr style=\"text-align: right;\">\n",
       "      <th></th>\n",
       "      <th>index</th>\n",
       "      <th>channelId</th>\n",
       "      <th>videoCategoryId</th>\n",
       "      <th>channelViewCount</th>\n",
       "      <th>videoCount</th>\n",
       "      <th>subscriberCount</th>\n",
       "      <th>videoId</th>\n",
       "      <th>channelelapsedtime</th>\n",
       "      <th>channelCommentCount</th>\n",
       "      <th>videoViewCount</th>\n",
       "      <th>elapsedtime</th>\n",
       "      <th>videoLikeCount</th>\n",
       "      <th>videoDislikeCount</th>\n",
       "      <th>videoPublished</th>\n",
       "      <th>VideoCommentCount</th>\n",
       "    </tr>\n",
       "  </thead>\n",
       "  <tbody>\n",
       "    <tr>\n",
       "      <th>0</th>\n",
       "      <td>0</td>\n",
       "      <td>UCdzU3DSGzyWzN2118yd9X9g</td>\n",
       "      <td>22</td>\n",
       "      <td>14654</td>\n",
       "      <td>30</td>\n",
       "      <td>18</td>\n",
       "      <td>--DwgB78t-c</td>\n",
       "      <td>88705</td>\n",
       "      <td>1</td>\n",
       "      <td>1712</td>\n",
       "      <td>50040</td>\n",
       "      <td>10</td>\n",
       "      <td>1</td>\n",
       "      <td>2012-01-19T18:38:28.000Z</td>\n",
       "      <td>0</td>\n",
       "    </tr>\n",
       "    <tr>\n",
       "      <th>1</th>\n",
       "      <td>1</td>\n",
       "      <td>UC0UnhAG47DRyVZGVcbhAXhQ</td>\n",
       "      <td>10</td>\n",
       "      <td>105909</td>\n",
       "      <td>51</td>\n",
       "      <td>184</td>\n",
       "      <td>--NZRkXBV7k</td>\n",
       "      <td>93409</td>\n",
       "      <td>8</td>\n",
       "      <td>10916</td>\n",
       "      <td>22080</td>\n",
       "      <td>44</td>\n",
       "      <td>3</td>\n",
       "      <td>2015-03-30T04:04:40.000Z</td>\n",
       "      <td>2</td>\n",
       "    </tr>\n",
       "    <tr>\n",
       "      <th>2</th>\n",
       "      <td>2</td>\n",
       "      <td>UCXjtAvK5P3wXBGh0vbGylzg</td>\n",
       "      <td>27</td>\n",
       "      <td>48265</td>\n",
       "      <td>72</td>\n",
       "      <td>338</td>\n",
       "      <td>--hoQ2sGG4M</td>\n",
       "      <td>72240</td>\n",
       "      <td>5</td>\n",
       "      <td>3478</td>\n",
       "      <td>71544</td>\n",
       "      <td>8</td>\n",
       "      <td>1</td>\n",
       "      <td>2009-08-07T06:51:10.000Z</td>\n",
       "      <td>2</td>\n",
       "    </tr>\n",
       "    <tr>\n",
       "      <th>3</th>\n",
       "      <td>3</td>\n",
       "      <td>UCeKHMeUlcLNPLCLUfZUQI2w</td>\n",
       "      <td>26</td>\n",
       "      <td>2116722</td>\n",
       "      <td>172</td>\n",
       "      <td>22051</td>\n",
       "      <td>--sBoaqBlzA</td>\n",
       "      <td>82512</td>\n",
       "      <td>74</td>\n",
       "      <td>19497</td>\n",
       "      <td>54096</td>\n",
       "      <td>161</td>\n",
       "      <td>6</td>\n",
       "      <td>2011-08-04T01:07:38.000Z</td>\n",
       "      <td>10</td>\n",
       "    </tr>\n",
       "    <tr>\n",
       "      <th>4</th>\n",
       "      <td>4</td>\n",
       "      <td>UCNWPDyaWf2eAHnofFLSnEMg</td>\n",
       "      <td>20</td>\n",
       "      <td>1649075</td>\n",
       "      <td>2777</td>\n",
       "      <td>220</td>\n",
       "      <td>--7h1S4neDM</td>\n",
       "      <td>31248</td>\n",
       "      <td>0</td>\n",
       "      <td>2201</td>\n",
       "      <td>30120</td>\n",
       "      <td>1</td>\n",
       "      <td>0</td>\n",
       "      <td>2014-04-29T15:44:44.000Z</td>\n",
       "      <td>0</td>\n",
       "    </tr>\n",
       "  </tbody>\n",
       "</table>\n",
       "</div>"
      ],
      "text/plain": [
       "   index                 channelId  videoCategoryId  channelViewCount  \\\n",
       "0      0  UCdzU3DSGzyWzN2118yd9X9g               22             14654   \n",
       "1      1  UC0UnhAG47DRyVZGVcbhAXhQ               10            105909   \n",
       "2      2  UCXjtAvK5P3wXBGh0vbGylzg               27             48265   \n",
       "3      3  UCeKHMeUlcLNPLCLUfZUQI2w               26           2116722   \n",
       "4      4  UCNWPDyaWf2eAHnofFLSnEMg               20           1649075   \n",
       "\n",
       "   videoCount  subscriberCount      videoId  channelelapsedtime  \\\n",
       "0          30               18  --DwgB78t-c               88705   \n",
       "1          51              184  --NZRkXBV7k               93409   \n",
       "2          72              338  --hoQ2sGG4M               72240   \n",
       "3         172            22051  --sBoaqBlzA               82512   \n",
       "4        2777              220  --7h1S4neDM               31248   \n",
       "\n",
       "   channelCommentCount  videoViewCount  elapsedtime  videoLikeCount  \\\n",
       "0                    1            1712        50040              10   \n",
       "1                    8           10916        22080              44   \n",
       "2                    5            3478        71544               8   \n",
       "3                   74           19497        54096             161   \n",
       "4                    0            2201        30120               1   \n",
       "\n",
       "   videoDislikeCount            videoPublished  VideoCommentCount  \n",
       "0                  1  2012-01-19T18:38:28.000Z                  0  \n",
       "1                  3  2015-03-30T04:04:40.000Z                  2  \n",
       "2                  1  2009-08-07T06:51:10.000Z                  2  \n",
       "3                  6  2011-08-04T01:07:38.000Z                 10  \n",
       "4                  0  2014-04-29T15:44:44.000Z                  0  "
      ]
     },
     "execution_count": 6,
     "metadata": {},
     "output_type": "execute_result"
    }
   ],
   "source": [
    "selected_columns =['index','channelId','videoCategoryId', 'channelViewCount',\n",
    "                    'videoCount', 'subscriberCount', 'videoId','channelelapsedtime',\n",
    "                    'channelCommentCount', 'videoViewCount','elapsedtime', 'videoLikeCount', \n",
    "                    'videoDislikeCount','videoPublished', 'VideoCommentCount']\n",
    "\n",
    "data = data[selected_columns]\n",
    "\n",
    "data.head()"
   ]
  },
  {
   "cell_type": "code",
   "execution_count": 7,
   "metadata": {},
   "outputs": [
    {
     "data": {
      "text/html": [
       "<div>\n",
       "<style scoped>\n",
       "    .dataframe tbody tr th:only-of-type {\n",
       "        vertical-align: middle;\n",
       "    }\n",
       "\n",
       "    .dataframe tbody tr th {\n",
       "        vertical-align: top;\n",
       "    }\n",
       "\n",
       "    .dataframe thead th {\n",
       "        text-align: right;\n",
       "    }\n",
       "</style>\n",
       "<table border=\"1\" class=\"dataframe\">\n",
       "  <thead>\n",
       "    <tr style=\"text-align: right;\">\n",
       "      <th></th>\n",
       "      <th>index</th>\n",
       "      <th>videoCategoryId</th>\n",
       "      <th>channelViewCount</th>\n",
       "      <th>videoCount</th>\n",
       "      <th>subscriberCount</th>\n",
       "      <th>channelelapsedtime</th>\n",
       "      <th>channelCommentCount</th>\n",
       "      <th>videoViewCount</th>\n",
       "      <th>elapsedtime</th>\n",
       "      <th>videoLikeCount</th>\n",
       "      <th>videoDislikeCount</th>\n",
       "      <th>VideoCommentCount</th>\n",
       "    </tr>\n",
       "  </thead>\n",
       "  <tbody>\n",
       "    <tr>\n",
       "      <th>count</th>\n",
       "      <td>575610.000000</td>\n",
       "      <td>575610.000000</td>\n",
       "      <td>5.756100e+05</td>\n",
       "      <td>575610.000000</td>\n",
       "      <td>5.756100e+05</td>\n",
       "      <td>575610.000000</td>\n",
       "      <td>5.756100e+05</td>\n",
       "      <td>5.756100e+05</td>\n",
       "      <td>575610.000000</td>\n",
       "      <td>5.756100e+05</td>\n",
       "      <td>575610.000000</td>\n",
       "      <td>575610.000000</td>\n",
       "    </tr>\n",
       "    <tr>\n",
       "      <th>mean</th>\n",
       "      <td>287804.500000</td>\n",
       "      <td>17.560551</td>\n",
       "      <td>4.829119e+07</td>\n",
       "      <td>1204.464627</td>\n",
       "      <td>8.097598e+04</td>\n",
       "      <td>67941.305267</td>\n",
       "      <td>7.312371e+02</td>\n",
       "      <td>5.883908e+04</td>\n",
       "      <td>50755.786958</td>\n",
       "      <td>2.921508e+02</td>\n",
       "      <td>18.921494</td>\n",
       "      <td>39.082997</td>\n",
       "    </tr>\n",
       "    <tr>\n",
       "      <th>std</th>\n",
       "      <td>166164.438562</td>\n",
       "      <td>7.904187</td>\n",
       "      <td>4.630822e+08</td>\n",
       "      <td>8303.754974</td>\n",
       "      <td>6.033393e+05</td>\n",
       "      <td>20629.159278</td>\n",
       "      <td>2.724153e+04</td>\n",
       "      <td>1.230696e+06</td>\n",
       "      <td>19725.560307</td>\n",
       "      <td>4.507472e+03</td>\n",
       "      <td>434.947624</td>\n",
       "      <td>557.811895</td>\n",
       "    </tr>\n",
       "    <tr>\n",
       "      <th>min</th>\n",
       "      <td>0.000000</td>\n",
       "      <td>1.000000</td>\n",
       "      <td>0.000000e+00</td>\n",
       "      <td>0.000000</td>\n",
       "      <td>0.000000e+00</td>\n",
       "      <td>888.000000</td>\n",
       "      <td>0.000000e+00</td>\n",
       "      <td>-1.000000e+00</td>\n",
       "      <td>17520.000000</td>\n",
       "      <td>-1.000000e+00</td>\n",
       "      <td>-1.000000</td>\n",
       "      <td>-1.000000</td>\n",
       "    </tr>\n",
       "    <tr>\n",
       "      <th>25%</th>\n",
       "      <td>143902.250000</td>\n",
       "      <td>10.000000</td>\n",
       "      <td>5.045000e+04</td>\n",
       "      <td>17.000000</td>\n",
       "      <td>3.800000e+01</td>\n",
       "      <td>51984.000000</td>\n",
       "      <td>0.000000e+00</td>\n",
       "      <td>2.204000e+03</td>\n",
       "      <td>34656.000000</td>\n",
       "      <td>5.000000e+00</td>\n",
       "      <td>0.000000</td>\n",
       "      <td>1.000000</td>\n",
       "    </tr>\n",
       "    <tr>\n",
       "      <th>50%</th>\n",
       "      <td>287804.500000</td>\n",
       "      <td>20.000000</td>\n",
       "      <td>4.086660e+05</td>\n",
       "      <td>70.000000</td>\n",
       "      <td>4.080000e+02</td>\n",
       "      <td>68400.000000</td>\n",
       "      <td>2.000000e+00</td>\n",
       "      <td>4.807000e+03</td>\n",
       "      <td>48480.000000</td>\n",
       "      <td>1.600000e+01</td>\n",
       "      <td>1.000000</td>\n",
       "      <td>4.000000</td>\n",
       "    </tr>\n",
       "    <tr>\n",
       "      <th>75%</th>\n",
       "      <td>431706.750000</td>\n",
       "      <td>24.000000</td>\n",
       "      <td>3.616452e+06</td>\n",
       "      <td>336.000000</td>\n",
       "      <td>5.319000e+03</td>\n",
       "      <td>85824.000000</td>\n",
       "      <td>2.300000e+01</td>\n",
       "      <td>1.526600e+04</td>\n",
       "      <td>65424.000000</td>\n",
       "      <td>6.000000e+01</td>\n",
       "      <td>5.000000</td>\n",
       "      <td>14.000000</td>\n",
       "    </tr>\n",
       "    <tr>\n",
       "      <th>max</th>\n",
       "      <td>575609.000000</td>\n",
       "      <td>44.000000</td>\n",
       "      <td>2.379817e+10</td>\n",
       "      <td>415500.000000</td>\n",
       "      <td>2.525311e+07</td>\n",
       "      <td>108913.000000</td>\n",
       "      <td>3.953563e+06</td>\n",
       "      <td>5.008939e+08</td>\n",
       "      <td>106609.000000</td>\n",
       "      <td>1.240473e+06</td>\n",
       "      <td>244280.000000</td>\n",
       "      <td>191498.000000</td>\n",
       "    </tr>\n",
       "  </tbody>\n",
       "</table>\n",
       "</div>"
      ],
      "text/plain": [
       "               index  videoCategoryId  channelViewCount     videoCount  \\\n",
       "count  575610.000000    575610.000000      5.756100e+05  575610.000000   \n",
       "mean   287804.500000        17.560551      4.829119e+07    1204.464627   \n",
       "std    166164.438562         7.904187      4.630822e+08    8303.754974   \n",
       "min         0.000000         1.000000      0.000000e+00       0.000000   \n",
       "25%    143902.250000        10.000000      5.045000e+04      17.000000   \n",
       "50%    287804.500000        20.000000      4.086660e+05      70.000000   \n",
       "75%    431706.750000        24.000000      3.616452e+06     336.000000   \n",
       "max    575609.000000        44.000000      2.379817e+10  415500.000000   \n",
       "\n",
       "       subscriberCount  channelelapsedtime  channelCommentCount  \\\n",
       "count     5.756100e+05       575610.000000         5.756100e+05   \n",
       "mean      8.097598e+04        67941.305267         7.312371e+02   \n",
       "std       6.033393e+05        20629.159278         2.724153e+04   \n",
       "min       0.000000e+00          888.000000         0.000000e+00   \n",
       "25%       3.800000e+01        51984.000000         0.000000e+00   \n",
       "50%       4.080000e+02        68400.000000         2.000000e+00   \n",
       "75%       5.319000e+03        85824.000000         2.300000e+01   \n",
       "max       2.525311e+07       108913.000000         3.953563e+06   \n",
       "\n",
       "       videoViewCount    elapsedtime  videoLikeCount  videoDislikeCount  \\\n",
       "count    5.756100e+05  575610.000000    5.756100e+05      575610.000000   \n",
       "mean     5.883908e+04   50755.786958    2.921508e+02          18.921494   \n",
       "std      1.230696e+06   19725.560307    4.507472e+03         434.947624   \n",
       "min     -1.000000e+00   17520.000000   -1.000000e+00          -1.000000   \n",
       "25%      2.204000e+03   34656.000000    5.000000e+00           0.000000   \n",
       "50%      4.807000e+03   48480.000000    1.600000e+01           1.000000   \n",
       "75%      1.526600e+04   65424.000000    6.000000e+01           5.000000   \n",
       "max      5.008939e+08  106609.000000    1.240473e+06      244280.000000   \n",
       "\n",
       "       VideoCommentCount  \n",
       "count      575610.000000  \n",
       "mean           39.082997  \n",
       "std           557.811895  \n",
       "min            -1.000000  \n",
       "25%             1.000000  \n",
       "50%             4.000000  \n",
       "75%            14.000000  \n",
       "max        191498.000000  "
      ]
     },
     "execution_count": 7,
     "metadata": {},
     "output_type": "execute_result"
    }
   ],
   "source": [
    "data.describe()"
   ]
  },
  {
   "cell_type": "markdown",
   "metadata": {},
   "source": [
    "There are some negative values in the dataset which doesn't make sense logically so I will remove those values"
   ]
  },
  {
   "cell_type": "code",
   "execution_count": 8,
   "metadata": {},
   "outputs": [
    {
     "data": {
      "text/html": [
       "<div>\n",
       "<style scoped>\n",
       "    .dataframe tbody tr th:only-of-type {\n",
       "        vertical-align: middle;\n",
       "    }\n",
       "\n",
       "    .dataframe tbody tr th {\n",
       "        vertical-align: top;\n",
       "    }\n",
       "\n",
       "    .dataframe thead th {\n",
       "        text-align: right;\n",
       "    }\n",
       "</style>\n",
       "<table border=\"1\" class=\"dataframe\">\n",
       "  <thead>\n",
       "    <tr style=\"text-align: right;\">\n",
       "      <th></th>\n",
       "      <th>index</th>\n",
       "      <th>channelId</th>\n",
       "      <th>videoCategoryId</th>\n",
       "      <th>channelViewCount</th>\n",
       "      <th>videoCount</th>\n",
       "      <th>subscriberCount</th>\n",
       "      <th>videoId</th>\n",
       "      <th>channelelapsedtime</th>\n",
       "      <th>channelCommentCount</th>\n",
       "      <th>videoViewCount</th>\n",
       "      <th>elapsedtime</th>\n",
       "      <th>videoLikeCount</th>\n",
       "      <th>videoDislikeCount</th>\n",
       "      <th>videoPublished</th>\n",
       "      <th>VideoCommentCount</th>\n",
       "    </tr>\n",
       "  </thead>\n",
       "  <tbody>\n",
       "    <tr>\n",
       "      <th>0</th>\n",
       "      <td>0</td>\n",
       "      <td>UCdzU3DSGzyWzN2118yd9X9g</td>\n",
       "      <td>22</td>\n",
       "      <td>14654</td>\n",
       "      <td>30</td>\n",
       "      <td>18</td>\n",
       "      <td>--DwgB78t-c</td>\n",
       "      <td>88705</td>\n",
       "      <td>1</td>\n",
       "      <td>1712</td>\n",
       "      <td>50040</td>\n",
       "      <td>10</td>\n",
       "      <td>1</td>\n",
       "      <td>2012-01-19T18:38:28.000Z</td>\n",
       "      <td>0</td>\n",
       "    </tr>\n",
       "    <tr>\n",
       "      <th>1</th>\n",
       "      <td>1</td>\n",
       "      <td>UC0UnhAG47DRyVZGVcbhAXhQ</td>\n",
       "      <td>10</td>\n",
       "      <td>105909</td>\n",
       "      <td>51</td>\n",
       "      <td>184</td>\n",
       "      <td>--NZRkXBV7k</td>\n",
       "      <td>93409</td>\n",
       "      <td>8</td>\n",
       "      <td>10916</td>\n",
       "      <td>22080</td>\n",
       "      <td>44</td>\n",
       "      <td>3</td>\n",
       "      <td>2015-03-30T04:04:40.000Z</td>\n",
       "      <td>2</td>\n",
       "    </tr>\n",
       "  </tbody>\n",
       "</table>\n",
       "</div>"
      ],
      "text/plain": [
       "   index                 channelId  videoCategoryId  channelViewCount  \\\n",
       "0      0  UCdzU3DSGzyWzN2118yd9X9g               22             14654   \n",
       "1      1  UC0UnhAG47DRyVZGVcbhAXhQ               10            105909   \n",
       "\n",
       "   videoCount  subscriberCount      videoId  channelelapsedtime  \\\n",
       "0          30               18  --DwgB78t-c               88705   \n",
       "1          51              184  --NZRkXBV7k               93409   \n",
       "\n",
       "   channelCommentCount  videoViewCount  elapsedtime  videoLikeCount  \\\n",
       "0                    1            1712        50040              10   \n",
       "1                    8           10916        22080              44   \n",
       "\n",
       "   videoDislikeCount            videoPublished  VideoCommentCount  \n",
       "0                  1  2012-01-19T18:38:28.000Z                  0  \n",
       "1                  3  2015-03-30T04:04:40.000Z                  2  "
      ]
     },
     "execution_count": 8,
     "metadata": {},
     "output_type": "execute_result"
    }
   ],
   "source": [
    "data = data[(data['videoViewCount']>=0) & \n",
    "     (data['videoLikeCount']>=0) & \n",
    "     (data['videoDislikeCount']>=0) & \n",
    "     (data['VideoCommentCount']>=0)\n",
    "      ]\n",
    "\n",
    "data.head(2)"
   ]
  },
  {
   "cell_type": "code",
   "execution_count": 9,
   "metadata": {},
   "outputs": [
    {
     "data": {
      "text/html": [
       "<div>\n",
       "<style scoped>\n",
       "    .dataframe tbody tr th:only-of-type {\n",
       "        vertical-align: middle;\n",
       "    }\n",
       "\n",
       "    .dataframe tbody tr th {\n",
       "        vertical-align: top;\n",
       "    }\n",
       "\n",
       "    .dataframe thead th {\n",
       "        text-align: right;\n",
       "    }\n",
       "</style>\n",
       "<table border=\"1\" class=\"dataframe\">\n",
       "  <thead>\n",
       "    <tr style=\"text-align: right;\">\n",
       "      <th></th>\n",
       "      <th>index</th>\n",
       "      <th>videoCategoryId</th>\n",
       "      <th>channelViewCount</th>\n",
       "      <th>videoCount</th>\n",
       "      <th>subscriberCount</th>\n",
       "      <th>channelelapsedtime</th>\n",
       "      <th>channelCommentCount</th>\n",
       "      <th>videoViewCount</th>\n",
       "      <th>elapsedtime</th>\n",
       "      <th>videoLikeCount</th>\n",
       "      <th>videoDislikeCount</th>\n",
       "      <th>VideoCommentCount</th>\n",
       "    </tr>\n",
       "  </thead>\n",
       "  <tbody>\n",
       "    <tr>\n",
       "      <th>count</th>\n",
       "      <td>557166.000000</td>\n",
       "      <td>557166.000000</td>\n",
       "      <td>5.571660e+05</td>\n",
       "      <td>557166.000000</td>\n",
       "      <td>5.571660e+05</td>\n",
       "      <td>557166.000000</td>\n",
       "      <td>5.571660e+05</td>\n",
       "      <td>5.571660e+05</td>\n",
       "      <td>557166.000000</td>\n",
       "      <td>5.571660e+05</td>\n",
       "      <td>557166.000000</td>\n",
       "      <td>557166.000000</td>\n",
       "    </tr>\n",
       "    <tr>\n",
       "      <th>mean</th>\n",
       "      <td>287826.042547</td>\n",
       "      <td>17.513098</td>\n",
       "      <td>4.517080e+07</td>\n",
       "      <td>1178.891298</td>\n",
       "      <td>7.865037e+04</td>\n",
       "      <td>67966.281482</td>\n",
       "      <td>7.386427e+02</td>\n",
       "      <td>5.849447e+04</td>\n",
       "      <td>50812.556516</td>\n",
       "      <td>2.980977e+02</td>\n",
       "      <td>19.199553</td>\n",
       "      <td>40.055274</td>\n",
       "    </tr>\n",
       "    <tr>\n",
       "      <th>std</th>\n",
       "      <td>166166.140738</td>\n",
       "      <td>7.883499</td>\n",
       "      <td>4.144404e+08</td>\n",
       "      <td>8266.426696</td>\n",
       "      <td>5.709540e+05</td>\n",
       "      <td>20633.702605</td>\n",
       "      <td>2.764618e+04</td>\n",
       "      <td>1.239972e+06</td>\n",
       "      <td>19743.882220</td>\n",
       "      <td>4.562354e+03</td>\n",
       "      <td>441.275605</td>\n",
       "      <td>565.917076</td>\n",
       "    </tr>\n",
       "    <tr>\n",
       "      <th>min</th>\n",
       "      <td>0.000000</td>\n",
       "      <td>1.000000</td>\n",
       "      <td>0.000000e+00</td>\n",
       "      <td>0.000000</td>\n",
       "      <td>0.000000e+00</td>\n",
       "      <td>888.000000</td>\n",
       "      <td>0.000000e+00</td>\n",
       "      <td>1.002000e+03</td>\n",
       "      <td>17640.000000</td>\n",
       "      <td>0.000000e+00</td>\n",
       "      <td>0.000000</td>\n",
       "      <td>0.000000</td>\n",
       "    </tr>\n",
       "    <tr>\n",
       "      <th>25%</th>\n",
       "      <td>143907.250000</td>\n",
       "      <td>10.000000</td>\n",
       "      <td>4.934425e+04</td>\n",
       "      <td>17.000000</td>\n",
       "      <td>3.800000e+01</td>\n",
       "      <td>51984.000000</td>\n",
       "      <td>0.000000e+00</td>\n",
       "      <td>2.201000e+03</td>\n",
       "      <td>34680.000000</td>\n",
       "      <td>6.000000e+00</td>\n",
       "      <td>0.000000</td>\n",
       "      <td>1.000000</td>\n",
       "    </tr>\n",
       "    <tr>\n",
       "      <th>50%</th>\n",
       "      <td>287864.500000</td>\n",
       "      <td>20.000000</td>\n",
       "      <td>3.981785e+05</td>\n",
       "      <td>69.000000</td>\n",
       "      <td>3.990000e+02</td>\n",
       "      <td>68448.000000</td>\n",
       "      <td>3.000000e+00</td>\n",
       "      <td>4.796000e+03</td>\n",
       "      <td>48552.000000</td>\n",
       "      <td>1.700000e+01</td>\n",
       "      <td>1.000000</td>\n",
       "      <td>4.000000</td>\n",
       "    </tr>\n",
       "    <tr>\n",
       "      <th>75%</th>\n",
       "      <td>431725.750000</td>\n",
       "      <td>24.000000</td>\n",
       "      <td>3.543761e+06</td>\n",
       "      <td>328.000000</td>\n",
       "      <td>5.230000e+03</td>\n",
       "      <td>85848.000000</td>\n",
       "      <td>2.300000e+01</td>\n",
       "      <td>1.522200e+04</td>\n",
       "      <td>65520.000000</td>\n",
       "      <td>6.200000e+01</td>\n",
       "      <td>5.000000</td>\n",
       "      <td>14.000000</td>\n",
       "    </tr>\n",
       "    <tr>\n",
       "      <th>max</th>\n",
       "      <td>575609.000000</td>\n",
       "      <td>44.000000</td>\n",
       "      <td>2.379817e+10</td>\n",
       "      <td>365544.000000</td>\n",
       "      <td>2.525311e+07</td>\n",
       "      <td>108913.000000</td>\n",
       "      <td>3.953563e+06</td>\n",
       "      <td>5.008939e+08</td>\n",
       "      <td>106609.000000</td>\n",
       "      <td>1.240473e+06</td>\n",
       "      <td>244280.000000</td>\n",
       "      <td>191498.000000</td>\n",
       "    </tr>\n",
       "  </tbody>\n",
       "</table>\n",
       "</div>"
      ],
      "text/plain": [
       "               index  videoCategoryId  channelViewCount     videoCount  \\\n",
       "count  557166.000000    557166.000000      5.571660e+05  557166.000000   \n",
       "mean   287826.042547        17.513098      4.517080e+07    1178.891298   \n",
       "std    166166.140738         7.883499      4.144404e+08    8266.426696   \n",
       "min         0.000000         1.000000      0.000000e+00       0.000000   \n",
       "25%    143907.250000        10.000000      4.934425e+04      17.000000   \n",
       "50%    287864.500000        20.000000      3.981785e+05      69.000000   \n",
       "75%    431725.750000        24.000000      3.543761e+06     328.000000   \n",
       "max    575609.000000        44.000000      2.379817e+10  365544.000000   \n",
       "\n",
       "       subscriberCount  channelelapsedtime  channelCommentCount  \\\n",
       "count     5.571660e+05       557166.000000         5.571660e+05   \n",
       "mean      7.865037e+04        67966.281482         7.386427e+02   \n",
       "std       5.709540e+05        20633.702605         2.764618e+04   \n",
       "min       0.000000e+00          888.000000         0.000000e+00   \n",
       "25%       3.800000e+01        51984.000000         0.000000e+00   \n",
       "50%       3.990000e+02        68448.000000         3.000000e+00   \n",
       "75%       5.230000e+03        85848.000000         2.300000e+01   \n",
       "max       2.525311e+07       108913.000000         3.953563e+06   \n",
       "\n",
       "       videoViewCount    elapsedtime  videoLikeCount  videoDislikeCount  \\\n",
       "count    5.571660e+05  557166.000000    5.571660e+05      557166.000000   \n",
       "mean     5.849447e+04   50812.556516    2.980977e+02          19.199553   \n",
       "std      1.239972e+06   19743.882220    4.562354e+03         441.275605   \n",
       "min      1.002000e+03   17640.000000    0.000000e+00           0.000000   \n",
       "25%      2.201000e+03   34680.000000    6.000000e+00           0.000000   \n",
       "50%      4.796000e+03   48552.000000    1.700000e+01           1.000000   \n",
       "75%      1.522200e+04   65520.000000    6.200000e+01           5.000000   \n",
       "max      5.008939e+08  106609.000000    1.240473e+06      244280.000000   \n",
       "\n",
       "       VideoCommentCount  \n",
       "count      557166.000000  \n",
       "mean           40.055274  \n",
       "std           565.917076  \n",
       "min             0.000000  \n",
       "25%             1.000000  \n",
       "50%             4.000000  \n",
       "75%            14.000000  \n",
       "max        191498.000000  "
      ]
     },
     "execution_count": 9,
     "metadata": {},
     "output_type": "execute_result"
    }
   ],
   "source": [
    "data.describe()"
   ]
  },
  {
   "cell_type": "code",
   "execution_count": 10,
   "metadata": {},
   "outputs": [
    {
     "data": {
      "text/plain": [
       "index                  0\n",
       "channelId              0\n",
       "videoCategoryId        0\n",
       "channelViewCount       0\n",
       "videoCount             0\n",
       "subscriberCount        0\n",
       "videoId                0\n",
       "channelelapsedtime     0\n",
       "channelCommentCount    0\n",
       "videoViewCount         0\n",
       "elapsedtime            0\n",
       "videoLikeCount         0\n",
       "videoDislikeCount      0\n",
       "videoPublished         0\n",
       "VideoCommentCount      0\n",
       "dtype: int64"
      ]
     },
     "execution_count": 10,
     "metadata": {},
     "output_type": "execute_result"
    }
   ],
   "source": [
    "data.isnull().sum()"
   ]
  },
  {
   "cell_type": "code",
   "execution_count": 11,
   "metadata": {},
   "outputs": [
    {
     "data": {
      "text/plain": [
       "index                   -0.000294\n",
       "videoCategoryId         -0.612887\n",
       "channelViewCount        23.823911\n",
       "videoCount              19.071062\n",
       "subscriberCount         18.181026\n",
       "channelelapsedtime      -0.159082\n",
       "channelCommentCount     87.183926\n",
       "videoViewCount         196.214596\n",
       "elapsedtime              0.373921\n",
       "videoLikeCount         105.393997\n",
       "videoDislikeCount      334.689053\n",
       "VideoCommentCount      150.638879\n",
       "dtype: float64"
      ]
     },
     "execution_count": 11,
     "metadata": {},
     "output_type": "execute_result"
    }
   ],
   "source": [
    "data.skew(numeric_only=True)"
   ]
  },
  {
   "cell_type": "code",
   "execution_count": 12,
   "metadata": {},
   "outputs": [
    {
     "data": {
      "text/plain": [
       "index                   int64\n",
       "channelId              object\n",
       "videoCategoryId         int64\n",
       "channelViewCount        int64\n",
       "videoCount              int64\n",
       "subscriberCount         int64\n",
       "videoId                object\n",
       "channelelapsedtime      int64\n",
       "channelCommentCount     int64\n",
       "videoViewCount          int64\n",
       "elapsedtime             int64\n",
       "videoLikeCount          int64\n",
       "videoDislikeCount       int64\n",
       "videoPublished         object\n",
       "VideoCommentCount       int64\n",
       "dtype: object"
      ]
     },
     "execution_count": 12,
     "metadata": {},
     "output_type": "execute_result"
    }
   ],
   "source": [
    "data.dtypes"
   ]
  },
  {
   "cell_type": "code",
   "execution_count": 13,
   "metadata": {},
   "outputs": [
    {
     "data": {
      "text/plain": [
       "index                 -0.001791\n",
       "videoCategoryId        0.003199\n",
       "channelViewCount       0.112972\n",
       "videoCount            -0.000179\n",
       "subscriberCount        0.212479\n",
       "channelelapsedtime    -0.010667\n",
       "channelCommentCount    0.053639\n",
       "videoViewCount         0.719707\n",
       "elapsedtime           -0.037340\n",
       "videoLikeCount         1.000000\n",
       "videoDislikeCount      0.498198\n",
       "VideoCommentCount      0.706167\n",
       "Name: videoLikeCount, dtype: float64"
      ]
     },
     "execution_count": 13,
     "metadata": {},
     "output_type": "execute_result"
    }
   ],
   "source": [
    "data.corr(numeric_only=True)['videoLikeCount']"
   ]
  },
  {
   "cell_type": "code",
   "execution_count": 14,
   "metadata": {},
   "outputs": [],
   "source": [
    "data_copy = data.copy()\n",
    "y=data['videoLikeCount']\n",
    "X=data.drop(['videoLikeCount'],axis=1)"
   ]
  },
  {
   "cell_type": "markdown",
   "metadata": {},
   "source": [
    "ElasticNet as baseline model"
   ]
  },
  {
   "cell_type": "code",
   "execution_count": 15,
   "metadata": {},
   "outputs": [
    {
     "name": "stdout",
     "output_type": "stream",
     "text": [
      "default artifacts URI: 'mlflow-artifacts:/1/20966c64a4d6468c9e968c1ee5e7b342/artifacts'\n"
     ]
    }
   ],
   "source": [
    "with mlflow.start_run():\n",
    "\n",
    "    mlflow.set_tag(\"model\", \"Elastic Net Pipeline\")\n",
    "\n",
    "    mlflow.log_param(\"train-data-path\", \"data/YouTubeDataset_withChannelElapsed.csv\")\n",
    "\n",
    "    cat_encoder=ce.CatBoostEncoder(cols=list(X.select_dtypes(include='object').columns))\n",
    "    qt=QuantileTransformer(output_distribution='normal')\n",
    "    rs=RobustScaler()\n",
    "    en=ElasticNet(random_state=123)\n",
    "    en_pipeline=Pipeline([('Cat_Encoder',cat_encoder),\n",
    "                    ('Quantile transformer',qt),\n",
    "                    ('Scaling',rs),\n",
    "                    ('Elastic Net',en)])\n",
    "    en_scores=cross_val_score(en_pipeline,X,y,cv=3,scoring='neg_root_mean_squared_error')    \n",
    "\n",
    "    mlflow.log_metric(\"rmse\", -en_scores.mean())\n",
    "    mlflow.sklearn.log_model(en_pipeline, artifact_path=\"models\")\n",
    "    print(f\"default artifacts URI: '{mlflow.get_artifact_uri()}'\")              "
   ]
  },
  {
   "cell_type": "markdown",
   "metadata": {},
   "source": [
    "I will use lightgbm as it can handle categorical features and it works fast too.\n",
    "\n",
    "LGBM can handle categorical features by changing the data types pf these features to \"category\". However it is mentioned in the [documentation](http://lightgbm.readthedocs.io/en/latest/Advanced-Topics.html) that for high cardinality datasets it is better to convert the categorical data as numeric"
   ]
  },
  {
   "cell_type": "code",
   "execution_count": 15,
   "metadata": {},
   "outputs": [
    {
     "data": {
      "text/plain": [
       "index                     int64\n",
       "channelId              category\n",
       "videoCategoryId           int64\n",
       "channelViewCount          int64\n",
       "videoCount                int64\n",
       "subscriberCount           int64\n",
       "videoId                category\n",
       "channelelapsedtime        int64\n",
       "channelCommentCount       int64\n",
       "videoViewCount            int64\n",
       "elapsedtime               int64\n",
       "videoDislikeCount         int64\n",
       "videoPublished         category\n",
       "VideoCommentCount         int64\n",
       "dtype: object"
      ]
     },
     "execution_count": 15,
     "metadata": {},
     "output_type": "execute_result"
    }
   ],
   "source": [
    "# lightgbm needs categorical features to be of type 'category'\n",
    "\n",
    "X_lightgbm = X.copy()\n",
    "for cat_cols in X_lightgbm.select_dtypes(include='object').columns:\n",
    "    X_lightgbm[cat_cols] = X_lightgbm[cat_cols].astype('category')\n",
    "\n",
    "X_lightgbm.dtypes"
   ]
  },
  {
   "cell_type": "code",
   "execution_count": 50,
   "metadata": {},
   "outputs": [
    {
     "name": "stderr",
     "output_type": "stream",
     "text": [
      "/Users/aasth/.local/share/virtualenvs/model-RCtldyqy/lib/python3.11/site-packages/_distutils_hack/__init__.py:18: UserWarning: Distutils was imported before Setuptools, but importing Setuptools also replaces the `distutils` module in `sys.modules`. This may lead to undesirable behaviors or errors. To avoid these issues, avoid using distutils directly, ensure that setuptools is installed in the traditional way (e.g. not an editable install), and/or make sure that setuptools is always imported before distutils.\n",
      "  warnings.warn(\n",
      "/Users/aasth/.local/share/virtualenvs/model-RCtldyqy/lib/python3.11/site-packages/_distutils_hack/__init__.py:33: UserWarning: Setuptools is replacing distutils.\n",
      "  warnings.warn(\"Setuptools is replacing distutils.\")\n"
     ]
    },
    {
     "name": "stdout",
     "output_type": "stream",
     "text": [
      "default artifacts URI: 'mlflow-artifacts:/1/f9ff37b0b6c9469f82ae8bf9a281b3be/artifacts'\n"
     ]
    }
   ],
   "source": [
    "with mlflow.start_run():\n",
    "\n",
    "    mlflow.set_tag(\"model\", \"LightGBM Regressor\")\n",
    "    mlflow.log_param(\"train-data-path\", \"data/YouTubeDataset_withChannelElapsed.csv\")\n",
    "\n",
    "    lightgbm_reg=lgb.LGBMRegressor(random_state=123,verbose=-1)\n",
    "    lightgbm_reg.fit(X_lightgbm,y)\n",
    "    scores = cross_val_score(lightgbm_reg, X_lightgbm, y, scoring='neg_root_mean_squared_error', cv=3)\n",
    "\n",
    "    mlflow.log_metric(\"rmse\", -scores.mean())\n",
    "    mlflow.sklearn.log_model(lightgbm_reg, artifact_path=\"models\")\n",
    "    print(f\"default artifacts URI: '{mlflow.get_artifact_uri()}'\")"
   ]
  },
  {
   "cell_type": "code",
   "execution_count": 52,
   "metadata": {},
   "outputs": [
    {
     "name": "stderr",
     "output_type": "stream",
     "text": [
      "/Users/aasth/.local/share/virtualenvs/model-RCtldyqy/lib/python3.11/site-packages/_distutils_hack/__init__.py:18: UserWarning: Distutils was imported before Setuptools, but importing Setuptools also replaces the `distutils` module in `sys.modules`. This may lead to undesirable behaviors or errors. To avoid these issues, avoid using distutils directly, ensure that setuptools is installed in the traditional way (e.g. not an editable install), and/or make sure that setuptools is always imported before distutils.\n",
      "  warnings.warn(\n",
      "/Users/aasth/.local/share/virtualenvs/model-RCtldyqy/lib/python3.11/site-packages/_distutils_hack/__init__.py:33: UserWarning: Setuptools is replacing distutils.\n",
      "  warnings.warn(\"Setuptools is replacing distutils.\")\n"
     ]
    },
    {
     "name": "stdout",
     "output_type": "stream",
     "text": [
      "default artifacts URI: 'mlflow-artifacts:/1/95b2a8a6727c442f938561468ee988eb/artifacts'\n"
     ]
    }
   ],
   "source": [
    "with mlflow.start_run():\n",
    "\n",
    "    mlflow.set_tag(\"model\", \"LightGBM Regressor Pipeline\")\n",
    "    mlflow.log_param(\"train-data-path\", \"data/YouTubeDataset_withChannelElapsed.csv\")\n",
    "\n",
    "    lightgbm_reg=lgb.LGBMRegressor(random_state=123,verbose=-1)\n",
    "    light_pipeline=Pipeline([('Cat_Encoder',cat_encoder), ('LightGBM',lightgbm_reg)])\n",
    "    light_pipeline.fit(X_lightgbm,y)\n",
    "    scores = cross_val_score(light_pipeline, X_lightgbm, y, scoring='neg_root_mean_squared_error', cv=3)\n",
    "\n",
    "    mlflow.log_metric(\"rmse\", -scores.mean())\n",
    "    mlflow.sklearn.log_model(light_pipeline, artifact_path=\"models\")\n",
    "    print(f\"default artifacts URI: '{mlflow.get_artifact_uri()}'\")"
   ]
  },
  {
   "cell_type": "code",
   "execution_count": 20,
   "metadata": {},
   "outputs": [
    {
     "name": "stderr",
     "output_type": "stream",
     "text": [
      "/Users/aasth/.local/share/virtualenvs/model-RCtldyqy/lib/python3.11/site-packages/_distutils_hack/__init__.py:18: UserWarning: Distutils was imported before Setuptools, but importing Setuptools also replaces the `distutils` module in `sys.modules`. This may lead to undesirable behaviors or errors. To avoid these issues, avoid using distutils directly, ensure that setuptools is installed in the traditional way (e.g. not an editable install), and/or make sure that setuptools is always imported before distutils.\n",
      "  warnings.warn(\n",
      "/Users/aasth/.local/share/virtualenvs/model-RCtldyqy/lib/python3.11/site-packages/_distutils_hack/__init__.py:33: UserWarning: Setuptools is replacing distutils.\n",
      "  warnings.warn(\"Setuptools is replacing distutils.\")\n"
     ]
    },
    {
     "name": "stdout",
     "output_type": "stream",
     "text": [
      "default artifacts URI: 'mlflow-artifacts:/1/d7279cc9f2a74888ba5ccf3ac0fd77f4/artifacts'\n"
     ]
    }
   ],
   "source": [
    "with mlflow.start_run():\n",
    "\n",
    "    mlflow.set_tag(\"model\", \"CatBoost Regressor\")\n",
    "    mlflow.log_param(\"train-data-path\", \"data/YouTubeDataset_withChannelElapsed.csv\")\n",
    "\n",
    "    cat =CatBoostRegressor(random_state=123,cat_features=list(X.select_dtypes(include='object').columns),\n",
    "                           verbose=False)\n",
    "    cat.fit(X,y)\n",
    "    scores = cross_val_score(cat, X, y, scoring='neg_root_mean_squared_error', cv=3)\n",
    "\n",
    "    mlflow.log_metric(\"rmse\", -scores.mean())\n",
    "    mlflow.sklearn.log_model(cat, artifact_path=\"models\")\n",
    "    print(f\"default artifacts URI: '{mlflow.get_artifact_uri()}'\")"
   ]
  },
  {
   "cell_type": "markdown",
   "metadata": {},
   "source": [
    "Let's see which model performed the best"
   ]
  },
  {
   "cell_type": "code",
   "execution_count": 15,
   "metadata": {},
   "outputs": [],
   "source": [
    "client = MlflowClient(\"http://127.0.0.1:5000\")\n",
    "runs = client.search_runs(experiment_ids='1',order_by=[\"metrics.rmse ASC\"])"
   ]
  },
  {
   "cell_type": "code",
   "execution_count": 16,
   "metadata": {},
   "outputs": [
    {
     "name": "stdout",
     "output_type": "stream",
     "text": [
      "run id: 5d4e1c34b7004f218fb70948f0c4fdfd, model name: LightGBM Regressor Pipeline,rmse: 2672.0905, duration(s): 38.20\n",
      "run id: bbdfddcf7a3f460bba46b24978de3707, model name: LightGBM Regressor,rmse: 2717.1013, duration(s): 12.48\n",
      "run id: d7279cc9f2a74888ba5ccf3ac0fd77f4, model name: CatBoost Regressor,rmse: 2933.2253, duration(s): 931.68\n",
      "run id: 20966c64a4d6468c9e968c1ee5e7b342, model name: Elastic Net Pipeline,rmse: 4461.3284, duration(s): 32.15\n"
     ]
    }
   ],
   "source": [
    "for run in runs:\n",
    "    print(f\"run id: {run.info.run_id}, model name: {run.data.tags['model']},\"+\n",
    "          f\"rmse: {run.data.metrics['rmse']:.4f}, duration(s): {(run.info.end_time-run.info.start_time)/1000:.2f}\")"
   ]
  },
  {
   "cell_type": "markdown",
   "metadata": {},
   "source": [
    "We can see that the LightGBM Regressor Pipeline performed the best but it took more than double the time of a simple LightGBM Regressor. The simple LGBM Regressor is able to give a similar rmse at a much faster time so let's use that. \n",
    "\n",
    "*Note for Hyperparameter Tuning: I will convert my dataset into lightgbm.DataSet() type as it will make the computation more efficient. [More info can be found here.](https://stackoverflow.com/questions/65924856/lightgbm-intent-of-lightgbm-dataset). The hyperparameter tuning process was taking too long so I didn't continue with it.*"
   ]
  },
  {
   "cell_type": "code",
   "execution_count": 23,
   "metadata": {},
   "outputs": [
    {
     "name": "stderr",
     "output_type": "stream",
     "text": [
      "Successfully registered model 'yt-likes-regressor'.\n",
      "2024/01/15 20:35:15 INFO mlflow.store.model_registry.abstract_store: Waiting up to 300 seconds for model version to finish creation. Model name: yt-likes-regressor, version 1\n",
      "Created version '1' of model 'yt-likes-regressor'.\n"
     ]
    },
    {
     "data": {
      "text/plain": [
       "<ModelVersion: aliases=[], creation_timestamp=1705379715817, current_stage='None', description='', last_updated_timestamp=1705379715817, name='yt-likes-regressor', run_id='bbdfddcf7a3f460bba46b24978de3707', run_link='', source='mlflow-artifacts:/1/bbdfddcf7a3f460bba46b24978de3707/artifacts/models', status='READY', status_message='', tags={}, user_id='', version='1'>"
      ]
     },
     "execution_count": 23,
     "metadata": {},
     "output_type": "execute_result"
    }
   ],
   "source": [
    "run_id = \"bbdfddcf7a3f460bba46b24978de3707\"\n",
    "mlflow.register_model(\n",
    "    model_uri=f\"runs:/{run_id}/models\",\n",
    "    name='yt-likes-regressor'\n",
    ")"
   ]
  },
  {
   "cell_type": "code",
   "execution_count": 24,
   "metadata": {},
   "outputs": [
    {
     "data": {
      "text/plain": [
       "[<RegisteredModel: aliases={}, creation_timestamp=1705379715706, description='', last_updated_timestamp=1705379715817, latest_versions=[<ModelVersion: aliases=[], creation_timestamp=1705379715817, current_stage='None', description='', last_updated_timestamp=1705379715817, name='yt-likes-regressor', run_id='bbdfddcf7a3f460bba46b24978de3707', run_link='', source='mlflow-artifacts:/1/bbdfddcf7a3f460bba46b24978de3707/artifacts/models', status='READY', status_message='', tags={}, user_id='', version='1'>], name='yt-likes-regressor', tags={}>]"
      ]
     },
     "execution_count": 24,
     "metadata": {},
     "output_type": "execute_result"
    }
   ],
   "source": [
    "# check if model was registered\n",
    "\n",
    "client.search_registered_models()"
   ]
  },
  {
   "cell_type": "code",
   "execution_count": 25,
   "metadata": {},
   "outputs": [
    {
     "name": "stdout",
     "output_type": "stream",
     "text": [
      "version: 1, stage: None\n"
     ]
    },
    {
     "name": "stderr",
     "output_type": "stream",
     "text": [
      "/var/folders/jm/jkj24z8n52sdr5w8dvb59kvc0000gp/T/ipykernel_34783/1713488704.py:2: FutureWarning: ``mlflow.tracking.client.MlflowClient.get_latest_versions`` is deprecated since 2.9.0. Model registry stages will be removed in a future major release. To learn more about the deprecation of model registry stages, see our migration guide here: https://mlflow.org/docs/2.9.2/model-registry.html#migrating-from-stages\n",
      "  latest_versions = client.get_latest_versions(name=model_name)\n"
     ]
    }
   ],
   "source": [
    "model_name = \"yt-likes-regressor\"\n",
    "latest_versions = client.get_latest_versions(name=model_name)\n",
    "\n",
    "for version in latest_versions:\n",
    "    print(f\"version: {version.version}, stage: {version.current_stage}\")"
   ]
  },
  {
   "cell_type": "code",
   "execution_count": 26,
   "metadata": {},
   "outputs": [
    {
     "name": "stderr",
     "output_type": "stream",
     "text": [
      "/var/folders/jm/jkj24z8n52sdr5w8dvb59kvc0000gp/T/ipykernel_34783/692680833.py:4: FutureWarning: ``mlflow.tracking.client.MlflowClient.transition_model_version_stage`` is deprecated since 2.9.0. Model registry stages will be removed in a future major release. To learn more about the deprecation of model registry stages, see our migration guide here: https://mlflow.org/docs/2.9.2/model-registry.html#migrating-from-stages\n",
      "  client.transition_model_version_stage(\n"
     ]
    },
    {
     "data": {
      "text/plain": [
       "<ModelVersion: aliases=[], creation_timestamp=1705379715817, current_stage='Staging', description='', last_updated_timestamp=1705380276033, name='yt-likes-regressor', run_id='bbdfddcf7a3f460bba46b24978de3707', run_link='', source='mlflow-artifacts:/1/bbdfddcf7a3f460bba46b24978de3707/artifacts/models', status='READY', status_message='', tags={}, user_id='', version='1'>"
      ]
     },
     "execution_count": 26,
     "metadata": {},
     "output_type": "execute_result"
    }
   ],
   "source": [
    "#moving model to staging\n",
    "model_version = 1\n",
    "new_stage = \"Staging\"\n",
    "client.transition_model_version_stage(\n",
    "    name=model_name,\n",
    "    version=model_version,\n",
    "    stage=new_stage,\n",
    "    archive_existing_versions=False\n",
    ")"
   ]
  },
  {
   "cell_type": "code",
   "execution_count": 27,
   "metadata": {},
   "outputs": [
    {
     "name": "stderr",
     "output_type": "stream",
     "text": [
      "/var/folders/jm/jkj24z8n52sdr5w8dvb59kvc0000gp/T/ipykernel_34783/1316468422.py:1: FutureWarning: ``mlflow.tracking.client.MlflowClient.transition_model_version_stage`` is deprecated since 2.9.0. Model registry stages will be removed in a future major release. To learn more about the deprecation of model registry stages, see our migration guide here: https://mlflow.org/docs/2.9.2/model-registry.html#migrating-from-stages\n",
      "  client.transition_model_version_stage(\n"
     ]
    },
    {
     "data": {
      "text/plain": [
       "<ModelVersion: aliases=[], creation_timestamp=1705379715817, current_stage='Production', description='', last_updated_timestamp=1705380478170, name='yt-likes-regressor', run_id='bbdfddcf7a3f460bba46b24978de3707', run_link='', source='mlflow-artifacts:/1/bbdfddcf7a3f460bba46b24978de3707/artifacts/models', status='READY', status_message='', tags={}, user_id='', version='1'>"
      ]
     },
     "execution_count": 27,
     "metadata": {},
     "output_type": "execute_result"
    }
   ],
   "source": [
    "client.transition_model_version_stage(\n",
    "    name=model_name,\n",
    "    version=1,\n",
    "    stage=\"Production\",\n",
    "    archive_existing_versions=True\n",
    ")"
   ]
  },
  {
   "cell_type": "code",
   "execution_count": 29,
   "metadata": {},
   "outputs": [
    {
     "data": {
      "text/plain": [
       "<ModelVersion: aliases=[], creation_timestamp=1705379715817, current_stage='Production', description='The model version 1 was transitioned to Production on 2024-01-15', last_updated_timestamp=1705380535205, name='yt-likes-regressor', run_id='bbdfddcf7a3f460bba46b24978de3707', run_link='', source='mlflow-artifacts:/1/bbdfddcf7a3f460bba46b24978de3707/artifacts/models', status='READY', status_message='', tags={}, user_id='', version='1'>"
      ]
     },
     "execution_count": 29,
     "metadata": {},
     "output_type": "execute_result"
    }
   ],
   "source": [
    "date = datetime.today().date()\n",
    "\n",
    "client.update_model_version(\n",
    "    name=model_name,\n",
    "    version=1,\n",
    "    description=f\"The model version 1 was transitioned to Production on {date}\"\n",
    ")"
   ]
  },
  {
   "cell_type": "code",
   "execution_count": null,
   "metadata": {},
   "outputs": [],
   "source": []
  }
 ],
 "metadata": {
  "kernelspec": {
   "display_name": "youtube-venv",
   "language": "python",
   "name": "python3"
  },
  "language_info": {
   "codemirror_mode": {
    "name": "ipython",
    "version": 3
   },
   "file_extension": ".py",
   "mimetype": "text/x-python",
   "name": "python",
   "nbconvert_exporter": "python",
   "pygments_lexer": "ipython3",
   "version": "3.11.5"
  }
 },
 "nbformat": 4,
 "nbformat_minor": 2
}
